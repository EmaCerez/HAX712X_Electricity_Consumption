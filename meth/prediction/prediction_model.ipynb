{
 "cells": [
  {
   "cell_type": "code",
   "execution_count": null,
   "id": "e3cd44ef",
   "metadata": {},
   "outputs": [],
   "source": []
  },
  {
   "cell_type": "code",
   "execution_count": 1,
   "id": "4fde64ef",
   "metadata": {},
   "outputs": [],
   "source": [
    "import warnings\n",
    "warnings.filterwarnings('ignore')\n",
    "warnings.simplefilter('ignore')"
   ]
  },
  {
   "cell_type": "code",
   "execution_count": 2,
   "id": "6dc7b6cf",
   "metadata": {},
   "outputs": [],
   "source": [
    "import numpy as np\n",
    "import pandas as pd\n",
    "#plotting\n",
    "import matplotlib as mpl\n",
    "import matplotlib.pyplot as plt\n",
    "import seaborn as sns\n",
    "sns.set()\n",
    "#machine learning et Méthodes statistiques\n",
    "import statsmodels.api as sm\n",
    "#Désactiver les avertissements inutiles si nécessaire\n",
    "import warnings"
   ]
  },
  {
   "cell_type": "code",
   "execution_count": 4,
   "id": "a9581b97",
   "metadata": {},
   "outputs": [
    {
     "ename": "IndentationError",
     "evalue": "unexpected indent (CreationDatacopie.py, line 44)",
     "output_type": "error",
     "traceback": [
      "Traceback \u001b[0;36m(most recent call last)\u001b[0m:\n",
      "  File \u001b[1;32m\"/Users/maryam/opt/anaconda3/lib/python3.9/site-packages/IPython/core/interactiveshell.py\"\u001b[0m, line \u001b[1;32m3457\u001b[0m, in \u001b[1;35mrun_code\u001b[0m\n    exec(code_obj, self.user_global_ns, self.user_ns)\n",
      "\u001b[0;36m  File \u001b[0;32m\"/var/folders/b1/j97kgpsx6d58_3vylxcffz7c0000gn/T/ipykernel_10761/1413882394.py\"\u001b[0;36m, line \u001b[0;32m2\u001b[0;36m, in \u001b[0;35m<module>\u001b[0;36m\u001b[0m\n\u001b[0;31m    import CreationDatacopie as cr\u001b[0m\n",
      "\u001b[0;36m  File \u001b[0;32m\"/Users/maryam/Desktop/HAX712X_Projet_METH/meth/prediction/CreationDatacopie.py\"\u001b[0;36m, line \u001b[0;32m44\u001b[0m\n\u001b[0;31m    time_improved = pd.to_datetime(data2020['Date'] +\u001b[0m\n\u001b[0m    ^\u001b[0m\n\u001b[0;31mIndentationError\u001b[0m\u001b[0;31m:\u001b[0m unexpected indent\n"
     ]
    }
   ],
   "source": [
    "# importation de base des donneés de 2019-01-01 00:00:00 à 2022-11-29 12:45:00 \n",
    "import CreationDatacopie as cr\n",
    "df = cr.dataframe('Eolien')"
   ]
  },
  {
   "cell_type": "code",
   "execution_count": null,
   "id": "d18775c5",
   "metadata": {},
   "outputs": [],
   "source": [
    "df.head(3)"
   ]
  },
  {
   "cell_type": "code",
   "execution_count": null,
   "id": "cd5e9f14",
   "metadata": {},
   "outputs": [],
   "source": [
    "df.tail(3)"
   ]
  },
  {
   "cell_type": "code",
   "execution_count": null,
   "id": "ec78e6bc",
   "metadata": {},
   "outputs": [],
   "source": [
    "df.plot(figsize=(15,5),xlabel='Temps',color='green')"
   ]
  },
  {
   "cell_type": "code",
   "execution_count": null,
   "id": "7bdd2bd0",
   "metadata": {},
   "outputs": [],
   "source": [
    "## Diviser les données en data test et data train \n",
    "data_test = df.iloc[-35880:,:].copy() # 20%\n",
    "data_train = df.iloc[:-35880].copy()  # 80%"
   ]
  },
  {
   "cell_type": "code",
   "execution_count": null,
   "id": "d645cba7",
   "metadata": {},
   "outputs": [],
   "source": [
    "#Unobserved Components model definition\n",
    "model_UC1 = sm.tsa.UnobservedComponents(df,\n",
    "                                        level='dtrend',\n",
    "                                        irregular=True,\n",
    "                                        stochastic_level = False,\n",
    "                                        stochastic_trend = False,\n",
    "                                        stochastic_freq_seasonal = [False, False, False],\n",
    "                                        freq_seasonal=[{'period': 672, 'harmonics': 1},\n",
    "                                                       {'period': 2880, 'harmonics': 1},\n",
    "                                                       {'period': 35066, 'harmonics': 2}])"
   ]
  },
  {
   "cell_type": "code",
   "execution_count": null,
   "id": "1b7145cc",
   "metadata": {},
   "outputs": [],
   "source": [
    "# essayage du modèle aux données du train data\n",
    "model_UC1res = model_UC1.fit()"
   ]
  },
  {
   "cell_type": "code",
   "execution_count": null,
   "id": "ba7db9ce",
   "metadata": {},
   "outputs": [],
   "source": [
    "#print statsmodels summary pour le modèle \n",
    "print(model_UC1res.summary())"
   ]
  },
  {
   "cell_type": "code",
   "execution_count": null,
   "id": "7b8700c2",
   "metadata": {},
   "outputs": [],
   "source": [
    "#modèle de prédiction \n",
    "forecast_UC1 = model_UC1res.forecast(steps=35880)\n"
   ]
  },
  {
   "cell_type": "code",
   "execution_count": null,
   "id": "1e931014",
   "metadata": {},
   "outputs": [],
   "source": [
    "#calculating mean absolute error and root mean squared error for out-of-sample prediction for model evaluation\n",
    "error = np.sqrt(np.mean([(data_test.iloc[x,:] - forecast_UC1[x]) ** 2 for x in range(len(forecast_UC1))]))      \n",
    "print(f\"Out-of-sample root mean squared error (RMSE): {'%.0f' % error}\")"
   ]
  },
  {
   "cell_type": "markdown",
   "id": "78d104db",
   "metadata": {},
   "source": [
    "# 1-Pour tester la validation du modèle :"
   ]
  },
  {
   "cell_type": "code",
   "execution_count": null,
   "id": "8e467ef8",
   "metadata": {},
   "outputs": [],
   "source": [
    "# Tracé les diagnostics résiduels du modèle Unobserved Components\n",
    "model_UC1res.plot_diagnostics(figsize=(18,18),lags=60).set_dpi(200);\n",
    "plt.show();"
   ]
  },
  {
   "cell_type": "code",
   "execution_count": null,
   "id": "01a3ad39",
   "metadata": {},
   "outputs": [],
   "source": [
    "pred = model_UC1res.predict(start=\"2019-01-01 06:00:00\", end=\"2022-12-08 23:45:00\")\n",
    "f = plt.figure(figsize=(18,6),dpi=200);\n",
    "#setting title and size of title\n",
    "plt.suptitle('Unobserved Components model prediction Vs Real dataset', fontsize=20);\n",
    "#setting y axis label\n",
    "plt.ylabel('MW');\n",
    "#plotting the data original \n",
    "plt.plot(df, label='France Electric Power Energy consumption (MW)',color='green');\n",
    "#plotting linear model\n",
    "plt.plot(pred, label='Unobserved Components model prediction',color='yellow');\n",
    "\n",
    "plt.legend();\n"
   ]
  },
  {
   "cell_type": "markdown",
   "id": "471c08dd",
   "metadata": {},
   "source": [
    "# 2- La prédiction du jour 8 décembre :"
   ]
  },
  {
   "cell_type": "code",
   "execution_count": null,
   "id": "a7945443",
   "metadata": {},
   "outputs": [],
   "source": [
    "#la prédiction du jour 8 décembre 2022\n",
    "forcast = model_UC1res.predict(start=\"2022-12-08 00:00:00\", end=\"2022-12-08 23:45:00\")\n",
    "forcast = forcast.to_frame()\n",
    "forcast.rename(columns = {'predicted_mean':'Consommation (MW)'},inplace = True)\n",
    "pd.options.display.max_rows = None\n",
    "forcast"
   ]
  },
  {
   "cell_type": "code",
   "execution_count": null,
   "id": "37ab65f3",
   "metadata": {},
   "outputs": [],
   "source": [
    "plt.plot(forcast)"
   ]
  },
  {
   "cell_type": "code",
   "execution_count": null,
   "id": "4e8708d2",
   "metadata": {},
   "outputs": [],
   "source": []
  }
 ],
 "metadata": {
  "kernelspec": {
   "display_name": "Python 3 (ipykernel)",
   "language": "python",
   "name": "python3"
  },
  "language_info": {
   "codemirror_mode": {
    "name": "ipython",
    "version": 3
   },
   "file_extension": ".py",
   "mimetype": "text/x-python",
   "name": "python",
   "nbconvert_exporter": "python",
   "pygments_lexer": "ipython3",
   "version": "3.9.13"
  }
 },
 "nbformat": 4,
 "nbformat_minor": 5
}
